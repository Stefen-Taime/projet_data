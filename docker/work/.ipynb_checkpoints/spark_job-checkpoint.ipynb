{
 "cells": [
  {
   "cell_type": "code",
   "execution_count": 1,
   "id": "74ba63d5-bbfa-4159-bfec-bb76f08ac7dc",
   "metadata": {},
   "outputs": [
    {
     "name": "stdout",
     "output_type": "stream",
     "text": [
      "Collecting delta-spark==1.2.0\n",
      "  Downloading delta_spark-1.2.0-py3-none-any.whl (19 kB)\n",
      "Requirement already satisfied: pyspark<3.3.0,>=3.2.0 in /usr/local/spark-3.2.1-bin-hadoop3.2/python (from delta-spark==1.2.0) (3.2.1)\n",
      "Requirement already satisfied: importlib-metadata>=1.0.0 in /opt/conda/lib/python3.10/site-packages (from delta-spark==1.2.0) (4.11.4)\n",
      "Requirement already satisfied: zipp>=0.5 in /opt/conda/lib/python3.10/site-packages (from importlib-metadata>=1.0.0->delta-spark==1.2.0) (3.8.0)\n",
      "Collecting py4j==0.10.9.3\n",
      "  Downloading py4j-0.10.9.3-py2.py3-none-any.whl (198 kB)\n",
      "\u001b[2K     \u001b[90m━━━━━━━━━━━━━━━━━━━━━━━━━━━━━━━━━━━━━━━\u001b[0m \u001b[32m199.0/199.0 kB\u001b[0m \u001b[31m4.7 MB/s\u001b[0m eta \u001b[36m0:00:00\u001b[0ma \u001b[36m0:00:01\u001b[0m\n",
      "\u001b[?25hInstalling collected packages: py4j, delta-spark\n",
      "Successfully installed delta-spark-1.2.0 py4j-0.10.9.3\n"
     ]
    }
   ],
   "source": [
    "!pip install delta-spark==1.2.0"
   ]
  },
  {
   "cell_type": "code",
   "execution_count": 2,
   "id": "21856e29-a97f-4613-a872-a0c40f6b21c7",
   "metadata": {},
   "outputs": [],
   "source": [
    "import pyspark\n",
    "from pyspark import SparkContext\n",
    "from pyspark.sql import SparkSession\n",
    "from pyspark.sql import SQLContext"
   ]
  },
  {
   "cell_type": "code",
   "execution_count": 3,
   "id": "333ba5cd-ccef-443b-806e-706223e05715",
   "metadata": {},
   "outputs": [
    {
     "name": "stdout",
     "output_type": "stream",
     "text": [
      "3.2.1\n"
     ]
    }
   ],
   "source": [
    "print(pyspark.__version__)"
   ]
  },
  {
   "cell_type": "code",
   "execution_count": 4,
   "id": "89671212-b39e-4c49-8291-b4611c124be3",
   "metadata": {},
   "outputs": [
    {
     "name": "stdout",
     "output_type": "stream",
     "text": [
      "+--------------------+----------+--------+-----+-------+---------+----+-----+---+------------+----+\n",
      "|                 _id|engineSize|fuelType|index|mileage|    model| mpg|price|tax|transmission|year|\n",
      "+--------------------+----------+--------+-----+-------+---------+----+-----+---+------------+----+\n",
      "|639202ad09ef69b3f...|       1.0|  Petrol|    0|  15944|   Fiesta|57.7|12000|150|   Automatic|2017|\n",
      "|639202ad09ef69b3f...|       1.0|  Petrol|    1|   9083|    Focus|57.7|14000|150|      Manual|2018|\n",
      "|639202ad09ef69b3f...|       1.0|  Petrol|    2|  12456|    Focus|57.7|13000|150|      Manual|2017|\n",
      "|639202ad09ef69b3f...|       1.5|  Petrol|    3|  10460|   Fiesta|40.3|17500|145|      Manual|2019|\n",
      "|639202ad09ef69b3f...|       1.0|  Petrol|    4|   1482|   Fiesta|48.7|16500|145|   Automatic|2019|\n",
      "|639202ad09ef69b3f...|       1.6|  Petrol|    5|  35432|   Fiesta|47.9|10500|145|      Manual|2015|\n",
      "|639202ad09ef69b3f...|       1.0|  Petrol|    6|   2029|     Puma|50.4|22500|145|      Manual|2019|\n",
      "|639202ad09ef69b3f...|       1.2|  Petrol|    7|  13054|   Fiesta|54.3| 9000|145|      Manual|2017|\n",
      "|639202ad09ef69b3f...|       2.0|  Diesel|    8|   6894|     Kuga|42.2|25500|145|   Automatic|2019|\n",
      "|639202ad09ef69b3f...|       1.0|  Petrol|    9|  48141|    Focus|61.4|10000|145|      Manual|2018|\n",
      "|639202ad09ef69b3f...|       1.0|  Petrol|   10|  18803|   Fiesta|56.5|11561|145|      Manual|2018|\n",
      "|639202ad09ef69b3f...|       1.0|  Petrol|   11|  12065| EcoSport|54.3|13500|145|      Manual|2018|\n",
      "|639202ad09ef69b3f...|       1.0|  Petrol|   12|  20978|   Fiesta|65.7|11000|  0|      Manual|2017|\n",
      "|639202ad09ef69b3f...|       2.0|  Diesel|   13|   9002|     Kuga|54.3|17999|145|   Semi-Auto|2018|\n",
      "|639202ad09ef69b3f...|       1.5|  Diesel|   14|   8970|     Kuga|58.9|18999|145|   Semi-Auto|2018|\n",
      "|639202ad09ef69b3f...|       1.5|  Diesel|   15|  12810|     Kuga|64.2|14399|145|      Manual|2018|\n",
      "|639202ad09ef69b3f...|       2.0|  Diesel|   16|  10428|     Kuga|38.2|17999|145|      Manual|2019|\n",
      "|639202ad09ef69b3f...|       2.0|  Diesel|   17|  14680|     Kuga|54.3|16899|145|      Manual|2018|\n",
      "|639202ad09ef69b3f...|       1.0|  Petrol|   18|  12427|   Fiesta|62.8|10999| 20|      Manual|2017|\n",
      "|639202ad09ef69b3f...|       1.0|  Petrol|   19|  25521|   Fiesta|55.4|12500|145|      Manual|2019|\n",
      "+--------------------+----------+--------+-----+-------+---------+----+-----+---+------------+----+\n",
      "only showing top 20 rows\n",
      "\n"
     ]
    }
   ],
   "source": [
    "\n",
    "####### read from mongodb ########\n",
    "url = 'mongodb://mongodb:27017/auto-mpg.auto'\n",
    "spark = (SparkSession\n",
    "         .builder\n",
    "         .master('local[*]')\n",
    "         .config('spark.driver.extraClassPath','path_to_jars/*')\n",
    "         .config(\"spark.mongodb.read.connection.uri\",url)\n",
    "         .config(\"spark.mongodb.write.connection.uri\", url)\n",
    "         .getOrCreate()\n",
    "         )\n",
    "auto_df = spark.read.format(\"mongodb\").load()\n",
    "auto_df.createOrReplaceTempView(\"auto\")\n",
    "auto_df= spark.sql(\"SELECT * FROM auto\")\n",
    "auto_df.show()"
   ]
  },
  {
   "cell_type": "code",
   "execution_count": 5,
   "id": "82e91bde-db80-4e9d-80c4-866f51e84630",
   "metadata": {},
   "outputs": [],
   "source": [
    "import pyspark\n",
    "from delta import *\n",
    "import pyspark\n",
    "from delta import *\n",
    "\n",
    "builder = pyspark.sql.SparkSession.builder.appName(\"DeltaApp\") \\\n",
    "    .config(\"spark.sql.extensions\", \"io.delta.sql.DeltaSparkSessionExtension\") \\\n",
    "    .config(\"spark.sql.catalog.spark_catalog\", \"org.apache.spark.sql.delta.catalog.DeltaCatalog\") \n",
    "\n",
    "spark = configure_spark_with_delta_pip(builder).master(\"spark://spark:7077\").getOrCreate()\n",
    "\n",
    "spark._jsc.hadoopConfiguration().set(\"fs.s3a.endpoint\", \"http://minio:9000\")\n",
    "spark._jsc.hadoopConfiguration().set(\"fs.s3a.access.key\", \"FFD34B2AC56E76E8BB9E7EFD7D283\")\n",
    "spark._jsc.hadoopConfiguration().set(\"fs.s3a.secret.key\", \"47A13EFAB1CA1F253FD6F56DEF769\")\n",
    "spark._jsc.hadoopConfiguration().set(\"fs.s3a.impl\",\"org.apache.hadoop.fs.s3a.S3AFileSystem\")\n",
    "spark._jsc.hadoopConfiguration().set(\"fs.s3a.path.style.access\", \"true\")\n",
    "spark._jsc.hadoopConfiguration().set(\"fs.s3a.aws.credentials.provider\",\"org.apache.hadoop.fs.s3a.SimpleAWSCredentialsProvider\")\n",
    "spark._jsc.hadoopConfiguration().set(\"spark.jars\", \"postgresql-42.2.14.jar\")"
   ]
  },
  {
   "cell_type": "code",
   "execution_count": 6,
   "id": "47ae52c2-b926-4d35-a022-52f954cea957",
   "metadata": {},
   "outputs": [
    {
     "name": "stdout",
     "output_type": "stream",
     "text": [
      "+-------+--------------------+-------------+\n",
      "|country|dt_current_timestamp| manufacturer|\n",
      "+-------+--------------------+-------------+\n",
      "|     us|       1670495480939|          amc|\n",
      "|germany|       1670495480939|         audi|\n",
      "|germany|       1670495480939|          bmw|\n",
      "|     us|       1670495480939|        buick|\n",
      "|     us|       1670495480939|     cadillac|\n",
      "|     us|       1670495480939|        capri|\n",
      "|     us|       1670495480939|    chevroelt|\n",
      "|     us|       1670495480939|    chevrolet|\n",
      "|     us|       1670495480939|        chevy|\n",
      "|     us|       1670495480939|     chrysler|\n",
      "|  japan|       1670495480939|       datsun|\n",
      "|     us|       1670495480939|        dodge|\n",
      "|  italy|       1670495480939|         fiat|\n",
      "|     us|       1670495480939|         ford|\n",
      "|     us|       1670495480939|           hi|\n",
      "|  japan|       1670495480939|        honda|\n",
      "|  japan|       1670495480939|        maxda|\n",
      "|  japan|       1670495480939|        mazda|\n",
      "|germany|       1670495480939|     mercedes|\n",
      "|germany|       1670495480939|mercedes-benz|\n",
      "+-------+--------------------+-------------+\n",
      "only showing top 20 rows\n",
      "\n"
     ]
    }
   ],
   "source": [
    "# read from minio\n",
    "df_manufacturers = spark.read \\\n",
    "        .format(\"json\") \\\n",
    "        .option(\"inferSchema\", \"true\") \\\n",
    "        .json(\"s3a://landing/manufacturers//*.json\")\n",
    "\n",
    "df_manufacturers.show()\n"
   ]
  },
  {
   "cell_type": "code",
   "execution_count": null,
   "id": "b0d041f4-1212-4def-91c6-97a8d7e6bb53",
   "metadata": {},
   "outputs": [],
   "source": []
  },
  {
   "cell_type": "code",
   "execution_count": null,
   "id": "38a3839e-5a37-4d4c-b236-d6446e10d25b",
   "metadata": {},
   "outputs": [
    {
     "name": "stdout",
     "output_type": "stream",
     "text": [
      "+--------------------+----------+--------+-----+-------+-------+----+-----+---+------------+----+------------+-------+----+\n",
      "|                 _id|engineSize|fuelType|index|mileage|  model| mpg|price|tax|transmission|year|manufacturer|  model|body|\n",
      "+--------------------+----------+--------+-----+-------+-------+----+-----+---+------------+----+------------+-------+----+\n",
      "|639202ad09ef69b3f...|       1.0|  Petrol|    0|  15944| Fiesta|57.7|12000|150|   Automatic|2017|      Fiesta| Fiesta| SUV|\n",
      "|639202ad09ef69b3f...|       1.5|  Petrol|    3|  10460| Fiesta|40.3|17500|145|      Manual|2019|      Fiesta| Fiesta| SUV|\n",
      "|639202ad09ef69b3f...|       1.0|  Petrol|    4|   1482| Fiesta|48.7|16500|145|   Automatic|2019|      Fiesta| Fiesta| SUV|\n",
      "|639202ad09ef69b3f...|       1.6|  Petrol|    5|  35432| Fiesta|47.9|10500|145|      Manual|2015|      Fiesta| Fiesta| SUV|\n",
      "|639202ad09ef69b3f...|       1.2|  Petrol|    7|  13054| Fiesta|54.3| 9000|145|      Manual|2017|      Fiesta| Fiesta| SUV|\n",
      "|639202ad09ef69b3f...|       2.0|  Diesel|    8|   6894|   Kuga|42.2|25500|145|   Automatic|2019|        Kuga|   Kuga| VAN|\n",
      "|639202ad09ef69b3f...|       1.0|  Petrol|   10|  18803| Fiesta|56.5|11561|145|      Manual|2018|      Fiesta| Fiesta| SUV|\n",
      "|639202ad09ef69b3f...|       1.0|  Petrol|   12|  20978| Fiesta|65.7|11000|  0|      Manual|2017|      Fiesta| Fiesta| SUV|\n",
      "|639202ad09ef69b3f...|       2.0|  Diesel|   13|   9002|   Kuga|54.3|17999|145|   Semi-Auto|2018|        Kuga|   Kuga| VAN|\n",
      "|639202ad09ef69b3f...|       1.5|  Diesel|   14|   8970|   Kuga|58.9|18999|145|   Semi-Auto|2018|        Kuga|   Kuga| VAN|\n",
      "|639202ad09ef69b3f...|       1.5|  Diesel|   15|  12810|   Kuga|64.2|14399|145|      Manual|2018|        Kuga|   Kuga| VAN|\n",
      "|639202ad09ef69b3f...|       2.0|  Diesel|   16|  10428|   Kuga|38.2|17999|145|      Manual|2019|        Kuga|   Kuga| VAN|\n",
      "|639202ad09ef69b3f...|       2.0|  Diesel|   17|  14680|   Kuga|54.3|16899|145|      Manual|2018|        Kuga|   Kuga| VAN|\n",
      "|639202ad09ef69b3f...|       1.0|  Petrol|   18|  12427| Fiesta|62.8|10999| 20|      Manual|2017|      Fiesta| Fiesta| SUV|\n",
      "|639202ad09ef69b3f...|       1.0|  Petrol|   19|  25521| Fiesta|55.4|12500|145|      Manual|2019|      Fiesta| Fiesta| SUV|\n",
      "|639202ad09ef69b3f...|       1.1|  Petrol|   20|  20400| Fiesta|55.4| 9499|145|      Manual|2018|      Fiesta| Fiesta| SUV|\n",
      "|639202ad09ef69b3f...|       1.0|  Petrol|   21|  24926| Fiesta|65.7|10500|145|      Manual|2017|      Fiesta| Fiesta| SUV|\n",
      "|639202ad09ef69b3f...|       1.0|  Petrol|   22|  26163| Fiesta|65.7| 8995|145|      Manual|2017|      Fiesta| Fiesta| SUV|\n",
      "|639202ad09ef69b3f...|       2.0|  Diesel|   23|  59000|   Kuga|47.9| 8995|160|      Manual|2014|        Kuga|   Kuga| VAN|\n",
      "|639202ad09ef69b3f...|       1.0|  Petrol|   24|  35299| Fiesta|65.7| 6795|  0|      Manual|2014|      Fiesta| Fiesta| SUV|\n",
      "+--------------------+----------+--------+-----+-------+-------+----+-----+---+------------+----+------------+-------+----+\n",
      "only showing top 20 rows\n",
      "\n"
     ]
    }
   ],
   "source": [
    "from pyspark.sql.functions import udf\n",
    "from pyspark.sql.types import StringType\n",
    "\n",
    "#Join two DataFrames with an expression\n",
    "# Add a manufacturers column, to join with the manufacturers list.\n",
    "first_word_udf = udf(lambda x: x.split()[0], StringType())\n",
    "df = auto_df.withColumn(\"manufacturer\", first_word_udf(auto_df.model))\n",
    "\n",
    "# The actual join.\n",
    "df = df.join(df_manufacturers, df.manufacturer == df_manufacturers.manufacturer)\n",
    "df.show()\n",
    "     \n",
    "#drop column\n",
    "df_final = df_join.drop(\"dt_current_timestamp\")\n",
    "colnames = df_final.columns\n",
    "df_final = df_final.toDF(*map(str, range(len(colnames))))\\\n",
    "    .drop(str(len(colnames)-1))\\\n",
    "    .toDF(*colnames[:-1])\n",
    "df_final.show()"
   ]
  },
  {
   "cell_type": "code",
   "execution_count": 9,
   "id": "8609bf6b-34a3-493e-b51e-b05d2e182bd1",
   "metadata": {},
   "outputs": [
    {
     "ename": "Py4JJavaError",
     "evalue": "An error occurred while calling o136.load.\n: org.postgresql.util.PSQLException: ERROR: relation \"auto\" does not exist\n  Position: 15\n\tat org.postgresql.core.v3.QueryExecutorImpl.receiveErrorResponse(QueryExecutorImpl.java:2675)\n\tat org.postgresql.core.v3.QueryExecutorImpl.processResults(QueryExecutorImpl.java:2365)\n\tat org.postgresql.core.v3.QueryExecutorImpl.execute(QueryExecutorImpl.java:355)\n\tat org.postgresql.jdbc.PgStatement.executeInternal(PgStatement.java:490)\n\tat org.postgresql.jdbc.PgStatement.execute(PgStatement.java:408)\n\tat org.postgresql.jdbc.PgPreparedStatement.executeWithFlags(PgPreparedStatement.java:167)\n\tat org.postgresql.jdbc.PgPreparedStatement.executeQuery(PgPreparedStatement.java:119)\n\tat org.apache.spark.sql.execution.datasources.jdbc.JDBCRDD$.getQueryOutputSchema(JDBCRDD.scala:67)\n\tat org.apache.spark.sql.execution.datasources.jdbc.JDBCRDD$.resolveTable(JDBCRDD.scala:57)\n\tat org.apache.spark.sql.execution.datasources.jdbc.JDBCRelation$.getSchema(JDBCRelation.scala:239)\n\tat org.apache.spark.sql.execution.datasources.jdbc.JdbcRelationProvider.createRelation(JdbcRelationProvider.scala:36)\n\tat org.apache.spark.sql.execution.datasources.DataSource.resolveRelation(DataSource.scala:350)\n\tat org.apache.spark.sql.DataFrameReader.loadV1Source(DataFrameReader.scala:274)\n\tat org.apache.spark.sql.DataFrameReader.$anonfun$load$3(DataFrameReader.scala:245)\n\tat scala.Option.getOrElse(Option.scala:189)\n\tat org.apache.spark.sql.DataFrameReader.load(DataFrameReader.scala:245)\n\tat org.apache.spark.sql.DataFrameReader.load(DataFrameReader.scala:174)\n\tat java.base/jdk.internal.reflect.NativeMethodAccessorImpl.invoke0(Native Method)\n\tat java.base/jdk.internal.reflect.NativeMethodAccessorImpl.invoke(NativeMethodAccessorImpl.java:62)\n\tat java.base/jdk.internal.reflect.DelegatingMethodAccessorImpl.invoke(DelegatingMethodAccessorImpl.java:43)\n\tat java.base/java.lang.reflect.Method.invoke(Method.java:566)\n\tat py4j.reflection.MethodInvoker.invoke(MethodInvoker.java:244)\n\tat py4j.reflection.ReflectionEngine.invoke(ReflectionEngine.java:357)\n\tat py4j.Gateway.invoke(Gateway.java:282)\n\tat py4j.commands.AbstractCommand.invokeMethod(AbstractCommand.java:132)\n\tat py4j.commands.CallCommand.execute(CallCommand.java:79)\n\tat py4j.ClientServerConnection.waitForCommands(ClientServerConnection.java:182)\n\tat py4j.ClientServerConnection.run(ClientServerConnection.java:106)\n\tat java.base/java.lang.Thread.run(Thread.java:829)\n",
     "output_type": "error",
     "traceback": [
      "\u001b[0;31m---------------------------------------------------------------------------\u001b[0m",
      "\u001b[0;31mPy4JJavaError\u001b[0m                             Traceback (most recent call last)",
      "Input \u001b[0;32mIn [9]\u001b[0m, in \u001b[0;36m<cell line: 1>\u001b[0;34m()\u001b[0m\n\u001b[1;32m      1\u001b[0m jdbcDF \u001b[38;5;241m=\u001b[39m \u001b[43mspark\u001b[49m\u001b[38;5;241;43m.\u001b[39;49m\u001b[43mread\u001b[49m\u001b[38;5;241;43m.\u001b[39;49m\u001b[43mformat\u001b[49m\u001b[43m(\u001b[49m\u001b[38;5;124;43m\"\u001b[39;49m\u001b[38;5;124;43mjdbc\u001b[39;49m\u001b[38;5;124;43m\"\u001b[39;49m\u001b[43m)\u001b[49m\u001b[38;5;241;43m.\u001b[39;49m\u001b[43m \u001b[49m\u001b[43m\\\u001b[49m\n\u001b[1;32m      2\u001b[0m \u001b[43moptions\u001b[49m\u001b[43m(\u001b[49m\n\u001b[1;32m      3\u001b[0m \u001b[43m         \u001b[49m\u001b[43murl\u001b[49m\u001b[38;5;241;43m=\u001b[39;49m\u001b[38;5;124;43m'\u001b[39;49m\u001b[38;5;124;43mjdbc:postgresql://10.0.0.241:5432/postgres\u001b[39;49m\u001b[38;5;124;43m'\u001b[39;49m\u001b[43m,\u001b[49m\u001b[43m \u001b[49m\u001b[38;5;66;43;03m# jdbc:postgresql://<host>:<port>/<database>\u001b[39;49;00m\n\u001b[1;32m      4\u001b[0m \u001b[43m         \u001b[49m\u001b[43mdbtable\u001b[49m\u001b[38;5;241;43m=\u001b[39;49m\u001b[38;5;124;43m'\u001b[39;49m\u001b[38;5;124;43mauto\u001b[39;49m\u001b[38;5;124;43m'\u001b[39;49m\u001b[43m,\u001b[49m\n\u001b[1;32m      5\u001b[0m \u001b[43m         \u001b[49m\u001b[43muser\u001b[49m\u001b[38;5;241;43m=\u001b[39;49m\u001b[38;5;124;43m'\u001b[39;49m\u001b[38;5;124;43mpostgres\u001b[39;49m\u001b[38;5;124;43m'\u001b[39;49m\u001b[43m,\u001b[49m\n\u001b[1;32m      6\u001b[0m \u001b[43m         \u001b[49m\u001b[43mpassword\u001b[49m\u001b[38;5;241;43m=\u001b[39;49m\u001b[38;5;124;43m'\u001b[39;49m\u001b[38;5;124;43mDebPostgres1!\u001b[39;49m\u001b[38;5;124;43m'\u001b[39;49m\u001b[43m,\u001b[49m\n\u001b[1;32m      7\u001b[0m \u001b[43m         \u001b[49m\u001b[43mdriver\u001b[49m\u001b[38;5;241;43m=\u001b[39;49m\u001b[38;5;124;43m'\u001b[39;49m\u001b[38;5;124;43morg.postgresql.Driver\u001b[39;49m\u001b[38;5;124;43m'\u001b[39;49m\u001b[43m)\u001b[49m\u001b[38;5;241;43m.\u001b[39;49m\u001b[43m\\\u001b[49m\n\u001b[0;32m----> 8\u001b[0m \u001b[43mload\u001b[49m\u001b[43m(\u001b[49m\u001b[43m)\u001b[49m\n",
      "File \u001b[0;32m/usr/local/spark/python/pyspark/sql/readwriter.py:164\u001b[0m, in \u001b[0;36mDataFrameReader.load\u001b[0;34m(self, path, format, schema, **options)\u001b[0m\n\u001b[1;32m    162\u001b[0m     \u001b[38;5;28;01mreturn\u001b[39;00m \u001b[38;5;28mself\u001b[39m\u001b[38;5;241m.\u001b[39m_df(\u001b[38;5;28mself\u001b[39m\u001b[38;5;241m.\u001b[39m_jreader\u001b[38;5;241m.\u001b[39mload(\u001b[38;5;28mself\u001b[39m\u001b[38;5;241m.\u001b[39m_spark\u001b[38;5;241m.\u001b[39m_sc\u001b[38;5;241m.\u001b[39m_jvm\u001b[38;5;241m.\u001b[39mPythonUtils\u001b[38;5;241m.\u001b[39mtoSeq(path)))\n\u001b[1;32m    163\u001b[0m \u001b[38;5;28;01melse\u001b[39;00m:\n\u001b[0;32m--> 164\u001b[0m     \u001b[38;5;28;01mreturn\u001b[39;00m \u001b[38;5;28mself\u001b[39m\u001b[38;5;241m.\u001b[39m_df(\u001b[38;5;28;43mself\u001b[39;49m\u001b[38;5;241;43m.\u001b[39;49m\u001b[43m_jreader\u001b[49m\u001b[38;5;241;43m.\u001b[39;49m\u001b[43mload\u001b[49m\u001b[43m(\u001b[49m\u001b[43m)\u001b[49m)\n",
      "File \u001b[0;32m/usr/local/spark/python/lib/py4j-0.10.9.3-src.zip/py4j/java_gateway.py:1321\u001b[0m, in \u001b[0;36mJavaMember.__call__\u001b[0;34m(self, *args)\u001b[0m\n\u001b[1;32m   1315\u001b[0m command \u001b[38;5;241m=\u001b[39m proto\u001b[38;5;241m.\u001b[39mCALL_COMMAND_NAME \u001b[38;5;241m+\u001b[39m\\\n\u001b[1;32m   1316\u001b[0m     \u001b[38;5;28mself\u001b[39m\u001b[38;5;241m.\u001b[39mcommand_header \u001b[38;5;241m+\u001b[39m\\\n\u001b[1;32m   1317\u001b[0m     args_command \u001b[38;5;241m+\u001b[39m\\\n\u001b[1;32m   1318\u001b[0m     proto\u001b[38;5;241m.\u001b[39mEND_COMMAND_PART\n\u001b[1;32m   1320\u001b[0m answer \u001b[38;5;241m=\u001b[39m \u001b[38;5;28mself\u001b[39m\u001b[38;5;241m.\u001b[39mgateway_client\u001b[38;5;241m.\u001b[39msend_command(command)\n\u001b[0;32m-> 1321\u001b[0m return_value \u001b[38;5;241m=\u001b[39m \u001b[43mget_return_value\u001b[49m\u001b[43m(\u001b[49m\n\u001b[1;32m   1322\u001b[0m \u001b[43m    \u001b[49m\u001b[43manswer\u001b[49m\u001b[43m,\u001b[49m\u001b[43m \u001b[49m\u001b[38;5;28;43mself\u001b[39;49m\u001b[38;5;241;43m.\u001b[39;49m\u001b[43mgateway_client\u001b[49m\u001b[43m,\u001b[49m\u001b[43m \u001b[49m\u001b[38;5;28;43mself\u001b[39;49m\u001b[38;5;241;43m.\u001b[39;49m\u001b[43mtarget_id\u001b[49m\u001b[43m,\u001b[49m\u001b[43m \u001b[49m\u001b[38;5;28;43mself\u001b[39;49m\u001b[38;5;241;43m.\u001b[39;49m\u001b[43mname\u001b[49m\u001b[43m)\u001b[49m\n\u001b[1;32m   1324\u001b[0m \u001b[38;5;28;01mfor\u001b[39;00m temp_arg \u001b[38;5;129;01min\u001b[39;00m temp_args:\n\u001b[1;32m   1325\u001b[0m     temp_arg\u001b[38;5;241m.\u001b[39m_detach()\n",
      "File \u001b[0;32m/usr/local/spark/python/pyspark/sql/utils.py:111\u001b[0m, in \u001b[0;36mcapture_sql_exception.<locals>.deco\u001b[0;34m(*a, **kw)\u001b[0m\n\u001b[1;32m    109\u001b[0m \u001b[38;5;28;01mdef\u001b[39;00m \u001b[38;5;21mdeco\u001b[39m(\u001b[38;5;241m*\u001b[39ma, \u001b[38;5;241m*\u001b[39m\u001b[38;5;241m*\u001b[39mkw):\n\u001b[1;32m    110\u001b[0m     \u001b[38;5;28;01mtry\u001b[39;00m:\n\u001b[0;32m--> 111\u001b[0m         \u001b[38;5;28;01mreturn\u001b[39;00m \u001b[43mf\u001b[49m\u001b[43m(\u001b[49m\u001b[38;5;241;43m*\u001b[39;49m\u001b[43ma\u001b[49m\u001b[43m,\u001b[49m\u001b[43m \u001b[49m\u001b[38;5;241;43m*\u001b[39;49m\u001b[38;5;241;43m*\u001b[39;49m\u001b[43mkw\u001b[49m\u001b[43m)\u001b[49m\n\u001b[1;32m    112\u001b[0m     \u001b[38;5;28;01mexcept\u001b[39;00m py4j\u001b[38;5;241m.\u001b[39mprotocol\u001b[38;5;241m.\u001b[39mPy4JJavaError \u001b[38;5;28;01mas\u001b[39;00m e:\n\u001b[1;32m    113\u001b[0m         converted \u001b[38;5;241m=\u001b[39m convert_exception(e\u001b[38;5;241m.\u001b[39mjava_exception)\n",
      "File \u001b[0;32m/usr/local/spark/python/lib/py4j-0.10.9.3-src.zip/py4j/protocol.py:326\u001b[0m, in \u001b[0;36mget_return_value\u001b[0;34m(answer, gateway_client, target_id, name)\u001b[0m\n\u001b[1;32m    324\u001b[0m value \u001b[38;5;241m=\u001b[39m OUTPUT_CONVERTER[\u001b[38;5;28mtype\u001b[39m](answer[\u001b[38;5;241m2\u001b[39m:], gateway_client)\n\u001b[1;32m    325\u001b[0m \u001b[38;5;28;01mif\u001b[39;00m answer[\u001b[38;5;241m1\u001b[39m] \u001b[38;5;241m==\u001b[39m REFERENCE_TYPE:\n\u001b[0;32m--> 326\u001b[0m     \u001b[38;5;28;01mraise\u001b[39;00m Py4JJavaError(\n\u001b[1;32m    327\u001b[0m         \u001b[38;5;124m\"\u001b[39m\u001b[38;5;124mAn error occurred while calling \u001b[39m\u001b[38;5;132;01m{0}\u001b[39;00m\u001b[38;5;132;01m{1}\u001b[39;00m\u001b[38;5;132;01m{2}\u001b[39;00m\u001b[38;5;124m.\u001b[39m\u001b[38;5;130;01m\\n\u001b[39;00m\u001b[38;5;124m\"\u001b[39m\u001b[38;5;241m.\u001b[39m\n\u001b[1;32m    328\u001b[0m         \u001b[38;5;28mformat\u001b[39m(target_id, \u001b[38;5;124m\"\u001b[39m\u001b[38;5;124m.\u001b[39m\u001b[38;5;124m\"\u001b[39m, name), value)\n\u001b[1;32m    329\u001b[0m \u001b[38;5;28;01melse\u001b[39;00m:\n\u001b[1;32m    330\u001b[0m     \u001b[38;5;28;01mraise\u001b[39;00m Py4JError(\n\u001b[1;32m    331\u001b[0m         \u001b[38;5;124m\"\u001b[39m\u001b[38;5;124mAn error occurred while calling \u001b[39m\u001b[38;5;132;01m{0}\u001b[39;00m\u001b[38;5;132;01m{1}\u001b[39;00m\u001b[38;5;132;01m{2}\u001b[39;00m\u001b[38;5;124m. Trace:\u001b[39m\u001b[38;5;130;01m\\n\u001b[39;00m\u001b[38;5;132;01m{3}\u001b[39;00m\u001b[38;5;130;01m\\n\u001b[39;00m\u001b[38;5;124m\"\u001b[39m\u001b[38;5;241m.\u001b[39m\n\u001b[1;32m    332\u001b[0m         \u001b[38;5;28mformat\u001b[39m(target_id, \u001b[38;5;124m\"\u001b[39m\u001b[38;5;124m.\u001b[39m\u001b[38;5;124m\"\u001b[39m, name, value))\n",
      "\u001b[0;31mPy4JJavaError\u001b[0m: An error occurred while calling o136.load.\n: org.postgresql.util.PSQLException: ERROR: relation \"auto\" does not exist\n  Position: 15\n\tat org.postgresql.core.v3.QueryExecutorImpl.receiveErrorResponse(QueryExecutorImpl.java:2675)\n\tat org.postgresql.core.v3.QueryExecutorImpl.processResults(QueryExecutorImpl.java:2365)\n\tat org.postgresql.core.v3.QueryExecutorImpl.execute(QueryExecutorImpl.java:355)\n\tat org.postgresql.jdbc.PgStatement.executeInternal(PgStatement.java:490)\n\tat org.postgresql.jdbc.PgStatement.execute(PgStatement.java:408)\n\tat org.postgresql.jdbc.PgPreparedStatement.executeWithFlags(PgPreparedStatement.java:167)\n\tat org.postgresql.jdbc.PgPreparedStatement.executeQuery(PgPreparedStatement.java:119)\n\tat org.apache.spark.sql.execution.datasources.jdbc.JDBCRDD$.getQueryOutputSchema(JDBCRDD.scala:67)\n\tat org.apache.spark.sql.execution.datasources.jdbc.JDBCRDD$.resolveTable(JDBCRDD.scala:57)\n\tat org.apache.spark.sql.execution.datasources.jdbc.JDBCRelation$.getSchema(JDBCRelation.scala:239)\n\tat org.apache.spark.sql.execution.datasources.jdbc.JdbcRelationProvider.createRelation(JdbcRelationProvider.scala:36)\n\tat org.apache.spark.sql.execution.datasources.DataSource.resolveRelation(DataSource.scala:350)\n\tat org.apache.spark.sql.DataFrameReader.loadV1Source(DataFrameReader.scala:274)\n\tat org.apache.spark.sql.DataFrameReader.$anonfun$load$3(DataFrameReader.scala:245)\n\tat scala.Option.getOrElse(Option.scala:189)\n\tat org.apache.spark.sql.DataFrameReader.load(DataFrameReader.scala:245)\n\tat org.apache.spark.sql.DataFrameReader.load(DataFrameReader.scala:174)\n\tat java.base/jdk.internal.reflect.NativeMethodAccessorImpl.invoke0(Native Method)\n\tat java.base/jdk.internal.reflect.NativeMethodAccessorImpl.invoke(NativeMethodAccessorImpl.java:62)\n\tat java.base/jdk.internal.reflect.DelegatingMethodAccessorImpl.invoke(DelegatingMethodAccessorImpl.java:43)\n\tat java.base/java.lang.reflect.Method.invoke(Method.java:566)\n\tat py4j.reflection.MethodInvoker.invoke(MethodInvoker.java:244)\n\tat py4j.reflection.ReflectionEngine.invoke(ReflectionEngine.java:357)\n\tat py4j.Gateway.invoke(Gateway.java:282)\n\tat py4j.commands.AbstractCommand.invokeMethod(AbstractCommand.java:132)\n\tat py4j.commands.CallCommand.execute(CallCommand.java:79)\n\tat py4j.ClientServerConnection.waitForCommands(ClientServerConnection.java:182)\n\tat py4j.ClientServerConnection.run(ClientServerConnection.java:106)\n\tat java.base/java.lang.Thread.run(Thread.java:829)\n"
     ]
    }
   ],
   "source": [
    "#jdbcDF = spark.read.format(\"jdbc\"). \\\n",
    "#options(\n",
    " #        url='jdbc:postgresql://10.0.0.241:5432/postgres', # jdbc:postgresql://<host>:<port>/<database>\n",
    " #        user='postgres',\n",
    " #        password='DebPostgres1!',\n",
    " #        driver='org.postgresql.Driver').\\\n",
    "#load()"
   ]
  },
  {
   "cell_type": "code",
   "execution_count": 33,
   "id": "e73e5efb-558d-451e-911d-4563d2b28536",
   "metadata": {},
   "outputs": [],
   "source": [
    "auto_df.write \\\n",
    "    .jdbc(\n",
    "        url='jdbc:postgresql://10.0.0.241:5432/postgres', \n",
    "        table=\"public.auto\", \n",
    "        properties={\"user\": \"postgres\", \"password\": \"DebPostgres1!\"}\n",
    "    )"
   ]
  },
  {
   "cell_type": "code",
   "execution_count": null,
   "id": "a05d3c1a-a60e-47c6-b7be-05c43e18bb12",
   "metadata": {},
   "outputs": [],
   "source": []
  },
  {
   "cell_type": "code",
   "execution_count": null,
   "id": "c5c4376f-d760-4791-8dff-e68e12bc70fe",
   "metadata": {},
   "outputs": [],
   "source": []
  },
  {
   "cell_type": "code",
   "execution_count": null,
   "id": "67e049f9-6525-44cc-8eb2-a8cf0b75152f",
   "metadata": {},
   "outputs": [],
   "source": [
    "\n",
    "\n",
    "     "
   ]
  },
  {
   "cell_type": "code",
   "execution_count": null,
   "id": "20f533cf-7036-4595-86aa-f4d1ea70acab",
   "metadata": {},
   "outputs": [],
   "source": []
  },
  {
   "cell_type": "code",
   "execution_count": null,
   "id": "15f12d33-edea-48a2-924c-3625f3a46df7",
   "metadata": {},
   "outputs": [],
   "source": [
    "\n"
   ]
  },
  {
   "cell_type": "code",
   "execution_count": null,
   "id": "3744cffa-49a4-4f26-90cb-b64cf25ab228",
   "metadata": {},
   "outputs": [],
   "source": []
  },
  {
   "cell_type": "code",
   "execution_count": null,
   "id": "016e074f-606c-4ff1-99e0-8021a660ef39",
   "metadata": {},
   "outputs": [],
   "source": []
  },
  {
   "cell_type": "code",
   "execution_count": null,
   "id": "a73c7f2e-a039-4bdf-850e-2720469dc959",
   "metadata": {},
   "outputs": [],
   "source": []
  },
  {
   "cell_type": "code",
   "execution_count": 10,
   "id": "f903c68f-d140-49b6-8679-a3428ebfe805",
   "metadata": {},
   "outputs": [],
   "source": []
  },
  {
   "cell_type": "code",
   "execution_count": null,
   "id": "d2b6957b-8715-4ec9-9d87-5408e09785bf",
   "metadata": {},
   "outputs": [],
   "source": []
  },
  {
   "cell_type": "code",
   "execution_count": null,
   "id": "2af7b82f-05af-4a8f-affc-fda6f06b2742",
   "metadata": {},
   "outputs": [],
   "source": []
  },
  {
   "cell_type": "code",
   "execution_count": null,
   "id": "bd19ad37-2ccd-41fd-961f-4120afb944e4",
   "metadata": {},
   "outputs": [],
   "source": []
  },
  {
   "cell_type": "code",
   "execution_count": null,
   "id": "95e0f1f7-8f31-45d7-adb1-3f6cbb5d19c5",
   "metadata": {},
   "outputs": [],
   "source": []
  },
  {
   "cell_type": "code",
   "execution_count": null,
   "id": "68e1877e-00a5-4732-9ffc-140d8fdbb7c1",
   "metadata": {},
   "outputs": [],
   "source": []
  },
  {
   "cell_type": "code",
   "execution_count": null,
   "id": "02b50647-07e7-4d16-ab98-44e40dada573",
   "metadata": {},
   "outputs": [],
   "source": []
  },
  {
   "cell_type": "code",
   "execution_count": null,
   "id": "9fca6fba-9fde-427f-918c-aa2c56586c90",
   "metadata": {},
   "outputs": [],
   "source": []
  },
  {
   "cell_type": "code",
   "execution_count": null,
   "id": "22913f91-9c7d-4487-add2-bad28b7435e9",
   "metadata": {},
   "outputs": [],
   "source": []
  },
  {
   "cell_type": "code",
   "execution_count": null,
   "id": "d6c3388d-fee3-438a-a2e4-37c94b895356",
   "metadata": {},
   "outputs": [],
   "source": []
  },
  {
   "cell_type": "code",
   "execution_count": null,
   "id": "7964c6a5-3f64-4c8e-8af9-0d60708473d2",
   "metadata": {},
   "outputs": [],
   "source": []
  }
 ],
 "metadata": {
  "kernelspec": {
   "display_name": "Python 3 (ipykernel)",
   "language": "python",
   "name": "python3"
  },
  "language_info": {
   "codemirror_mode": {
    "name": "ipython",
    "version": 3
   },
   "file_extension": ".py",
   "mimetype": "text/x-python",
   "name": "python",
   "nbconvert_exporter": "python",
   "pygments_lexer": "ipython3",
   "version": "3.10.5"
  }
 },
 "nbformat": 4,
 "nbformat_minor": 5
}

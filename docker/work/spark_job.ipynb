{
 "cells": [
  {
   "cell_type": "code",
   "execution_count": 1,
   "id": "74ba63d5-bbfa-4159-bfec-bb76f08ac7dc",
   "metadata": {},
   "outputs": [
    {
     "name": "stdout",
     "output_type": "stream",
     "text": [
      "Collecting delta-spark==1.2.0\n",
      "  Downloading delta_spark-1.2.0-py3-none-any.whl (19 kB)\n",
      "Requirement already satisfied: importlib-metadata>=1.0.0 in /opt/conda/lib/python3.10/site-packages (from delta-spark==1.2.0) (4.11.4)\n",
      "Requirement already satisfied: pyspark<3.3.0,>=3.2.0 in /usr/local/spark-3.2.1-bin-hadoop3.2/python (from delta-spark==1.2.0) (3.2.1)\n",
      "Requirement already satisfied: zipp>=0.5 in /opt/conda/lib/python3.10/site-packages (from importlib-metadata>=1.0.0->delta-spark==1.2.0) (3.8.0)\n",
      "Collecting py4j==0.10.9.3\n",
      "  Downloading py4j-0.10.9.3-py2.py3-none-any.whl (198 kB)\n",
      "\u001b[2K     \u001b[90m━━━━━━━━━━━━━━━━━━━━━━━━━━━━━━━━━━━━━━━\u001b[0m \u001b[32m199.0/199.0 kB\u001b[0m \u001b[31m3.5 MB/s\u001b[0m eta \u001b[36m0:00:00\u001b[0ma \u001b[36m0:00:01\u001b[0m\n",
      "\u001b[?25hInstalling collected packages: py4j, delta-spark\n",
      "Successfully installed delta-spark-1.2.0 py4j-0.10.9.3\n"
     ]
    }
   ],
   "source": [
    "!pip install delta-spark==1.2.0"
   ]
  },
  {
   "cell_type": "code",
   "execution_count": 2,
   "id": "21856e29-a97f-4613-a872-a0c40f6b21c7",
   "metadata": {},
   "outputs": [],
   "source": [
    "import pyspark\n",
    "from pyspark import SparkContext\n",
    "from pyspark.sql import SparkSession\n",
    "from pyspark.sql import SQLContext"
   ]
  },
  {
   "cell_type": "code",
   "execution_count": 3,
   "id": "333ba5cd-ccef-443b-806e-706223e05715",
   "metadata": {},
   "outputs": [
    {
     "name": "stdout",
     "output_type": "stream",
     "text": [
      "3.2.1\n"
     ]
    }
   ],
   "source": [
    "print(pyspark.__version__)"
   ]
  },
  {
   "cell_type": "code",
   "execution_count": 15,
   "id": "89671212-b39e-4c49-8291-b4611c124be3",
   "metadata": {},
   "outputs": [
    {
     "name": "stdout",
     "output_type": "stream",
     "text": [
      "+--------------------+------------+--------------------+----------+---------+---------+----+------+\n",
      "|                 _id|acceleration|             carname|horsepower|cylinders|modelyear| mpg|origin|\n",
      "+--------------------+------------+--------------------+----------+---------+---------+----+------+\n",
      "|638ba5251833991eb...|        12.0|chevrolet chevell...|     130.0|        8|       70|18.0|     1|\n",
      "|638ba5251833991eb...|        11.5|   buick skylark 320|     165.0|        8|       70|15.0|     1|\n",
      "|638ba5251833991eb...|        11.0|  plymouth satellite|     150.0|        8|       70|18.0|     1|\n",
      "|638ba5251833991eb...|        12.0|       amc rebel sst|     150.0|        8|       70|16.0|     1|\n",
      "|638ba5251833991eb...|        10.5|         ford torino|     140.0|        8|       70|17.0|     1|\n",
      "|638ba5251833991eb...|        10.0|    ford galaxie 500|     198.0|        8|       70|15.0|     1|\n",
      "|638ba5251833991eb...|         9.0|    chevrolet impala|     220.0|        8|       70|14.0|     1|\n",
      "|638ba5251833991eb...|         8.5|   plymouth fury iii|     215.0|        8|       70|14.0|     1|\n",
      "|638ba5251833991eb...|        10.0|    pontiac catalina|     225.0|        8|       70|14.0|     1|\n",
      "|638ba5251833991eb...|         8.5|  amc ambassador dpl|     190.0|        8|       70|15.0|     1|\n",
      "|638ba5251833991eb...|        10.0| dodge challenger se|     170.0|        8|       70|15.0|     1|\n",
      "|638ba5251833991eb...|         8.0|  plymouth 'cuda 340|     160.0|        8|       70|14.0|     1|\n",
      "|638ba5251833991eb...|         9.5|chevrolet monte c...|     150.0|        8|       70|15.0|     1|\n",
      "|638ba5251833991eb...|        10.0|buick estate wago...|     225.0|        8|       70|14.0|     1|\n",
      "|638ba5251833991eb...|        15.0|toyota corona mar...|      95.0|        4|       70|24.0|     3|\n",
      "|638ba5251833991eb...|        15.5|     plymouth duster|      95.0|        6|       70|22.0|     1|\n",
      "|638ba5251833991eb...|        15.5|          amc hornet|      97.0|        6|       70|18.0|     1|\n",
      "|638ba5251833991eb...|        16.0|       ford maverick|      85.0|        6|       70|21.0|     1|\n",
      "|638ba5251833991eb...|        14.5|        datsun pl510|      88.0|        4|       70|27.0|     3|\n",
      "|638ba5251833991eb...|        20.5|volkswagen 1131 d...|      46.0|        4|       70|26.0|     2|\n",
      "+--------------------+------------+--------------------+----------+---------+---------+----+------+\n",
      "only showing top 20 rows\n",
      "\n"
     ]
    }
   ],
   "source": [
    "\n",
    "####### read from mongodb ########\n",
    "url = 'mongodb://mongodb:27017/auto-mpg.auto'\n",
    "spark = (SparkSession\n",
    "         .builder\n",
    "         .master('local[*]')\n",
    "         .config('spark.driver.extraClassPath','path_to_jars/*')\n",
    "         .config(\"spark.mongodb.read.connection.uri\",url)\n",
    "         .config(\"spark.mongodb.write.connection.uri\", url)\n",
    "         .getOrCreate()\n",
    "         )\n",
    "auto_df = spark.read.format(\"mongodb\").load()\n",
    "auto_df.createOrReplaceTempView(\"auto\")\n",
    "auto_df= spark.sql(\"SELECT _id, acceleration, carname, horsepower, cylinders, modelyear, mpg, origin FROM auto\")\n",
    "auto_df.show()"
   ]
  },
  {
   "cell_type": "code",
   "execution_count": 22,
   "id": "82e91bde-db80-4e9d-80c4-866f51e84630",
   "metadata": {},
   "outputs": [],
   "source": [
    "import pyspark\n",
    "from delta import *\n",
    "import pyspark\n",
    "from delta import *\n",
    "\n",
    "builder = pyspark.sql.SparkSession.builder.appName(\"DeltaApp\") \\\n",
    "    .config(\"spark.sql.extensions\", \"io.delta.sql.DeltaSparkSessionExtension\") \\\n",
    "    .config(\"spark.sql.catalog.spark_catalog\", \"org.apache.spark.sql.delta.catalog.DeltaCatalog\") \n",
    "\n",
    "spark = configure_spark_with_delta_pip(builder).master(\"spark://spark:7077\").getOrCreate()\n",
    "\n",
    "spark._jsc.hadoopConfiguration().set(\"fs.s3a.endpoint\", \"http://minio:9000\")\n",
    "spark._jsc.hadoopConfiguration().set(\"fs.s3a.access.key\", \"FFD34B2AC56E76E8BB9E7EFD7D283\")\n",
    "spark._jsc.hadoopConfiguration().set(\"fs.s3a.secret.key\", \"47A13EFAB1CA1F253FD6F56DEF769\")\n",
    "spark._jsc.hadoopConfiguration().set(\"fs.s3a.impl\",\"org.apache.hadoop.fs.s3a.S3AFileSystem\")\n",
    "spark._jsc.hadoopConfiguration().set(\"fs.s3a.path.style.access\", \"true\")\n",
    "spark._jsc.hadoopConfiguration().set(\"fs.s3a.aws.credentials.provider\",\"org.apache.hadoop.fs.s3a.SimpleAWSCredentialsProvider\")\n",
    "spark._jsc.hadoopConfiguration().set(\"spark.jars\", \"postgresql-42.2.14.jar\")"
   ]
  },
  {
   "cell_type": "code",
   "execution_count": 14,
   "id": "47ae52c2-b926-4d35-a022-52f954cea957",
   "metadata": {},
   "outputs": [
    {
     "name": "stdout",
     "output_type": "stream",
     "text": [
      "+-------+--------------------+-------------+\n",
      "|country|dt_current_timestamp| manufacturer|\n",
      "+-------+--------------------+-------------+\n",
      "|     us|       1670238236187|          amc|\n",
      "|germany|       1670238236187|         audi|\n",
      "|germany|       1670238236187|          bmw|\n",
      "|     us|       1670238236187|        buick|\n",
      "|     us|       1670238236187|     cadillac|\n",
      "|     us|       1670238236187|        capri|\n",
      "|     us|       1670238236187|    chevroelt|\n",
      "|     us|       1670238236187|    chevrolet|\n",
      "|     us|       1670238236187|        chevy|\n",
      "|     us|       1670238236187|     chrysler|\n",
      "|  japan|       1670238236187|       datsun|\n",
      "|     us|       1670238236187|        dodge|\n",
      "|  italy|       1670238236187|         fiat|\n",
      "|     us|       1670238236187|         ford|\n",
      "|     us|       1670238236187|           hi|\n",
      "|  japan|       1670238236187|        honda|\n",
      "|  japan|       1670238236187|        maxda|\n",
      "|  japan|       1670238236187|        mazda|\n",
      "|germany|       1670238236187|     mercedes|\n",
      "|germany|       1670238236187|mercedes-benz|\n",
      "+-------+--------------------+-------------+\n",
      "only showing top 20 rows\n",
      "\n"
     ]
    }
   ],
   "source": [
    "# read from minio\n",
    "df_manufacturers = spark.read \\\n",
    "        .format(\"json\") \\\n",
    "        .option(\"inferSchema\", \"true\") \\\n",
    "        .json(\"s3a://landing/manufacturers//*.json\")\n",
    "\n",
    "df_manufacturers.show()\n"
   ]
  },
  {
   "cell_type": "code",
   "execution_count": null,
   "id": "b0d041f4-1212-4def-91c6-97a8d7e6bb53",
   "metadata": {},
   "outputs": [],
   "source": []
  },
  {
   "cell_type": "code",
   "execution_count": 16,
   "id": "38a3839e-5a37-4d4c-b236-d6446e10d25b",
   "metadata": {},
   "outputs": [
    {
     "name": "stdout",
     "output_type": "stream",
     "text": [
      "+--------------------+------------+--------------------+----------+---------+---------+----+------+------------+-------+\n",
      "|                 _id|acceleration|             carname|horsepower|cylinders|modelyear| mpg|origin|manufacturer|country|\n",
      "+--------------------+------------+--------------------+----------+---------+---------+----+------+------------+-------+\n",
      "|638ba5251833991eb...|        12.0|chevrolet chevell...|     130.0|        8|       70|18.0|     1|   chevrolet|     us|\n",
      "|638ba5251833991eb...|        11.5|   buick skylark 320|     165.0|        8|       70|15.0|     1|       buick|     us|\n",
      "|638ba5251833991eb...|        11.0|  plymouth satellite|     150.0|        8|       70|18.0|     1|    plymouth|     us|\n",
      "|638ba5251833991eb...|        12.0|       amc rebel sst|     150.0|        8|       70|16.0|     1|         amc|     us|\n",
      "|638ba5251833991eb...|        10.5|         ford torino|     140.0|        8|       70|17.0|     1|        ford|     us|\n",
      "|638ba5251833991eb...|        10.0|    ford galaxie 500|     198.0|        8|       70|15.0|     1|        ford|     us|\n",
      "|638ba5251833991eb...|         9.0|    chevrolet impala|     220.0|        8|       70|14.0|     1|   chevrolet|     us|\n",
      "|638ba5251833991eb...|         8.5|   plymouth fury iii|     215.0|        8|       70|14.0|     1|    plymouth|     us|\n",
      "|638ba5251833991eb...|        10.0|    pontiac catalina|     225.0|        8|       70|14.0|     1|     pontiac|     us|\n",
      "|638ba5251833991eb...|         8.5|  amc ambassador dpl|     190.0|        8|       70|15.0|     1|         amc|     us|\n",
      "|638ba5251833991eb...|        10.0| dodge challenger se|     170.0|        8|       70|15.0|     1|       dodge|     us|\n",
      "|638ba5251833991eb...|         8.0|  plymouth 'cuda 340|     160.0|        8|       70|14.0|     1|    plymouth|     us|\n",
      "|638ba5251833991eb...|         9.5|chevrolet monte c...|     150.0|        8|       70|15.0|     1|   chevrolet|     us|\n",
      "|638ba5251833991eb...|        10.0|buick estate wago...|     225.0|        8|       70|14.0|     1|       buick|     us|\n",
      "|638ba5251833991eb...|        15.0|toyota corona mar...|      95.0|        4|       70|24.0|     3|      toyota|  japan|\n",
      "|638ba5251833991eb...|        15.5|     plymouth duster|      95.0|        6|       70|22.0|     1|    plymouth|     us|\n",
      "|638ba5251833991eb...|        15.5|          amc hornet|      97.0|        6|       70|18.0|     1|         amc|     us|\n",
      "|638ba5251833991eb...|        16.0|       ford maverick|      85.0|        6|       70|21.0|     1|        ford|     us|\n",
      "|638ba5251833991eb...|        14.5|        datsun pl510|      88.0|        4|       70|27.0|     3|      datsun|  japan|\n",
      "|638ba5251833991eb...|        20.5|volkswagen 1131 d...|      46.0|        4|       70|26.0|     2|  volkswagen|germany|\n",
      "+--------------------+------------+--------------------+----------+---------+---------+----+------+------------+-------+\n",
      "only showing top 20 rows\n",
      "\n"
     ]
    }
   ],
   "source": [
    "from pyspark.sql.functions import udf\n",
    "from pyspark.sql.types import StringType\n",
    "\n",
    "#Join two DataFrames with an expression\n",
    "# Add a manufacturers column, to join with the manufacturers list.\n",
    "first_word_udf = udf(lambda x: x.split()[0], StringType())\n",
    "df = auto_df.withColumn(\"manufacturer\", first_word_udf(auto_df.carname))\n",
    "\n",
    "# The actual join.\n",
    "df_join = df.join(\n",
    "    df_manufacturers,\n",
    "    (df.manufacturer == df_manufacturers.manufacturer)\n",
    "    | (df.mpg == df_manufacturers.manufacturer),\n",
    ")\n",
    "#drop column\n",
    "df_final = df_join.drop(\"dt_current_timestamp\")\n",
    "colnames = df_final.columns\n",
    "df_final = df_final.toDF(*map(str, range(len(colnames))))\\\n",
    "    .drop(str(len(colnames)-1))\\\n",
    "    .toDF(*colnames[:-1])\n",
    "df_final.show()"
   ]
  },
  {
   "cell_type": "code",
   "execution_count": 24,
   "id": "8609bf6b-34a3-493e-b51e-b05d2e182bd1",
   "metadata": {},
   "outputs": [],
   "source": [
    "jdbcDF = spark.read.format(\"jdbc\"). \\\n",
    "options(\n",
    "         url='jdbc:postgresql://postgres:5432/postgres', # jdbc:postgresql://<host>:<port>/<database>\n",
    "         dbtable='test',\n",
    "         user='postgres',\n",
    "         password='Sup3rS3c3t',\n",
    "         driver='org.postgresql.Driver').\\\n",
    "load()"
   ]
  },
  {
   "cell_type": "code",
   "execution_count": 26,
   "id": "e73e5efb-558d-451e-911d-4563d2b28536",
   "metadata": {},
   "outputs": [],
   "source": [
    "df_final.write \\\n",
    "    .jdbc(\n",
    "        url='jdbc:postgresql://postgres:5432/postgres', \n",
    "        table=\"public.auto\", \n",
    "        properties={\"user\": \"postgres\", \"password\": \"Sup3rS3c3t\"}\n",
    "    )"
   ]
  },
  {
   "cell_type": "code",
   "execution_count": null,
   "id": "a05d3c1a-a60e-47c6-b7be-05c43e18bb12",
   "metadata": {},
   "outputs": [],
   "source": []
  },
  {
   "cell_type": "code",
   "execution_count": null,
   "id": "c5c4376f-d760-4791-8dff-e68e12bc70fe",
   "metadata": {},
   "outputs": [],
   "source": []
  },
  {
   "cell_type": "code",
   "execution_count": null,
   "id": "67e049f9-6525-44cc-8eb2-a8cf0b75152f",
   "metadata": {},
   "outputs": [],
   "source": [
    "\n",
    "\n",
    "     "
   ]
  },
  {
   "cell_type": "code",
   "execution_count": null,
   "id": "20f533cf-7036-4595-86aa-f4d1ea70acab",
   "metadata": {},
   "outputs": [],
   "source": []
  },
  {
   "cell_type": "code",
   "execution_count": null,
   "id": "15f12d33-edea-48a2-924c-3625f3a46df7",
   "metadata": {},
   "outputs": [],
   "source": [
    "\n"
   ]
  },
  {
   "cell_type": "code",
   "execution_count": null,
   "id": "3744cffa-49a4-4f26-90cb-b64cf25ab228",
   "metadata": {},
   "outputs": [],
   "source": []
  },
  {
   "cell_type": "code",
   "execution_count": null,
   "id": "016e074f-606c-4ff1-99e0-8021a660ef39",
   "metadata": {},
   "outputs": [],
   "source": []
  },
  {
   "cell_type": "code",
   "execution_count": null,
   "id": "a73c7f2e-a039-4bdf-850e-2720469dc959",
   "metadata": {},
   "outputs": [],
   "source": []
  },
  {
   "cell_type": "code",
   "execution_count": 10,
   "id": "f903c68f-d140-49b6-8679-a3428ebfe805",
   "metadata": {},
   "outputs": [],
   "source": []
  },
  {
   "cell_type": "code",
   "execution_count": null,
   "id": "d2b6957b-8715-4ec9-9d87-5408e09785bf",
   "metadata": {},
   "outputs": [],
   "source": []
  },
  {
   "cell_type": "code",
   "execution_count": null,
   "id": "2af7b82f-05af-4a8f-affc-fda6f06b2742",
   "metadata": {},
   "outputs": [],
   "source": []
  },
  {
   "cell_type": "code",
   "execution_count": null,
   "id": "bd19ad37-2ccd-41fd-961f-4120afb944e4",
   "metadata": {},
   "outputs": [],
   "source": []
  },
  {
   "cell_type": "code",
   "execution_count": null,
   "id": "95e0f1f7-8f31-45d7-adb1-3f6cbb5d19c5",
   "metadata": {},
   "outputs": [],
   "source": []
  },
  {
   "cell_type": "code",
   "execution_count": null,
   "id": "68e1877e-00a5-4732-9ffc-140d8fdbb7c1",
   "metadata": {},
   "outputs": [],
   "source": []
  },
  {
   "cell_type": "code",
   "execution_count": null,
   "id": "02b50647-07e7-4d16-ab98-44e40dada573",
   "metadata": {},
   "outputs": [],
   "source": []
  },
  {
   "cell_type": "code",
   "execution_count": null,
   "id": "9fca6fba-9fde-427f-918c-aa2c56586c90",
   "metadata": {},
   "outputs": [],
   "source": []
  },
  {
   "cell_type": "code",
   "execution_count": null,
   "id": "22913f91-9c7d-4487-add2-bad28b7435e9",
   "metadata": {},
   "outputs": [],
   "source": []
  },
  {
   "cell_type": "code",
   "execution_count": null,
   "id": "d6c3388d-fee3-438a-a2e4-37c94b895356",
   "metadata": {},
   "outputs": [],
   "source": []
  },
  {
   "cell_type": "code",
   "execution_count": null,
   "id": "7964c6a5-3f64-4c8e-8af9-0d60708473d2",
   "metadata": {},
   "outputs": [],
   "source": []
  }
 ],
 "metadata": {
  "kernelspec": {
   "display_name": "Python 3 (ipykernel)",
   "language": "python",
   "name": "python3"
  },
  "language_info": {
   "codemirror_mode": {
    "name": "ipython",
    "version": 3
   },
   "file_extension": ".py",
   "mimetype": "text/x-python",
   "name": "python",
   "nbconvert_exporter": "python",
   "pygments_lexer": "ipython3",
   "version": "3.10.5"
  }
 },
 "nbformat": 4,
 "nbformat_minor": 5
}

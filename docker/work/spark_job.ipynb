{
 "cells": [
  {
   "cell_type": "code",
   "execution_count": 1,
   "id": "74ba63d5-bbfa-4159-bfec-bb76f08ac7dc",
   "metadata": {},
   "outputs": [
    {
     "name": "stdout",
     "output_type": "stream",
     "text": [
      "Requirement already satisfied: delta-spark==1.2.0 in /opt/conda/lib/python3.10/site-packages (1.2.0)\n",
      "Requirement already satisfied: pyspark<3.3.0,>=3.2.0 in /usr/local/spark-3.2.1-bin-hadoop3.2/python (from delta-spark==1.2.0) (3.2.1)\n",
      "Requirement already satisfied: importlib-metadata>=1.0.0 in /opt/conda/lib/python3.10/site-packages (from delta-spark==1.2.0) (4.11.4)\n",
      "Requirement already satisfied: zipp>=0.5 in /opt/conda/lib/python3.10/site-packages (from importlib-metadata>=1.0.0->delta-spark==1.2.0) (3.8.0)\n",
      "Requirement already satisfied: py4j==0.10.9.3 in /opt/conda/lib/python3.10/site-packages (from pyspark<3.3.0,>=3.2.0->delta-spark==1.2.0) (0.10.9.3)\n"
     ]
    }
   ],
   "source": [
    "!pip install delta-spark==1.2.0"
   ]
  },
  {
   "cell_type": "code",
   "execution_count": 2,
   "id": "21856e29-a97f-4613-a872-a0c40f6b21c7",
   "metadata": {},
   "outputs": [],
   "source": [
    "import pyspark\n",
    "from pyspark import SparkContext\n",
    "from pyspark.sql import SparkSession\n",
    "from pyspark.sql import SQLContext"
   ]
  },
  {
   "cell_type": "code",
   "execution_count": 3,
   "id": "333ba5cd-ccef-443b-806e-706223e05715",
   "metadata": {},
   "outputs": [
    {
     "name": "stdout",
     "output_type": "stream",
     "text": [
      "3.2.1\n"
     ]
    }
   ],
   "source": [
    "print(pyspark.__version__)"
   ]
  },
  {
   "cell_type": "code",
   "execution_count": 4,
   "id": "89671212-b39e-4c49-8291-b4611c124be3",
   "metadata": {},
   "outputs": [
    {
     "name": "stderr",
     "output_type": "stream",
     "text": [
      "/usr/local/spark/python/pyspark/sql/context.py:77: FutureWarning: Deprecated in 3.0.0. Use SparkSession.builder.getOrCreate() instead.\n",
      "  warnings.warn(\n"
     ]
    }
   ],
   "source": [
    "conf = pyspark.SparkConf().set(\"spark.jars.packages\",\"org.mongodb.spark:mongo-spark-connector_2.12:3.0.1\").setMaster(\"local\").setAppName(\"Spark-Job\").setAll([('spark.driver.memory', '1g'),('spark.executor.memory','1g')])\n",
    "sc = SparkContext(conf=conf)\n",
    "sqlC = SQLContext(sc)"
   ]
  },
  {
   "cell_type": "code",
   "execution_count": 5,
   "id": "82e91bde-db80-4e9d-80c4-866f51e84630",
   "metadata": {},
   "outputs": [],
   "source": [
    "import pyspark\n",
    "from delta import *\n",
    "\n",
    "builder = pyspark.sql.SparkSession.builder.appName(\"DeltaApp\") \\\n",
    "    .config(\"spark.sql.extensions\", \"io.delta.sql.DeltaSparkSessionExtension\") \\\n",
    "    .config(\"spark.sql.catalog.spark_catalog\", \"org.apache.spark.sql.delta.catalog.DeltaCatalog\") \n",
    "\n",
    "spark = configure_spark_with_delta_pip(builder).master(\"spark://spark:7077\").getOrCreate()\n",
    "\n",
    "spark._jsc.hadoopConfiguration().set(\"fs.s3a.endpoint\", \"http://minio:9000\")\n",
    "spark._jsc.hadoopConfiguration().set(\"fs.s3a.access.key\", \"FFD34B2AC56E76E8BB9E7EFD7D283\")\n",
    "spark._jsc.hadoopConfiguration().set(\"fs.s3a.secret.key\", \"47A13EFAB1CA1F253FD6F56DEF769\")\n",
    "spark._jsc.hadoopConfiguration().set(\"fs.s3a.impl\",\"org.apache.hadoop.fs.s3a.S3AFileSystem\")\n",
    "spark._jsc.hadoopConfiguration().set(\"fs.s3a.path.style.access\", \"true\")\n",
    "spark._jsc.hadoopConfiguration().set(\"fs.s3a.aws.credentials.provider\",\"org.apache.hadoop.fs.s3a.SimpleAWSCredentialsProvider\")\n",
    "spark._jsc.hadoopConfiguration().set(\"spark.mongodb.input.uri\", \"mongodb://mongodb/auto-mpg.auto\")\n",
    "spark._jsc.hadoopConfiguration().set(\"spark.jars.packages\", \"org.mongodb.spark:mongo-spark-connector_2.10-2.2.10\")"
   ]
  },
  {
   "cell_type": "code",
   "execution_count": 6,
   "id": "47ae52c2-b926-4d35-a022-52f954cea957",
   "metadata": {},
   "outputs": [],
   "source": [
    "df_business = spark.read \\\n",
    "        .format(\"json\") \\\n",
    "        .option(\"inferSchema\", \"true\") \\\n",
    "        .json(\"s3a://landing/manufacturers//*.json\")"
   ]
  },
  {
   "cell_type": "code",
   "execution_count": 7,
   "id": "38a3839e-5a37-4d4c-b236-d6446e10d25b",
   "metadata": {},
   "outputs": [
    {
     "name": "stdout",
     "output_type": "stream",
     "text": [
      "+-------+--------------------+-------------+\n",
      "|country|dt_current_timestamp| manufacturer|\n",
      "+-------+--------------------+-------------+\n",
      "|     us|       1670238236187|          amc|\n",
      "|germany|       1670238236187|         audi|\n",
      "|germany|       1670238236187|          bmw|\n",
      "|     us|       1670238236187|        buick|\n",
      "|     us|       1670238236187|     cadillac|\n",
      "|     us|       1670238236187|        capri|\n",
      "|     us|       1670238236187|    chevroelt|\n",
      "|     us|       1670238236187|    chevrolet|\n",
      "|     us|       1670238236187|        chevy|\n",
      "|     us|       1670238236187|     chrysler|\n",
      "|  japan|       1670238236187|       datsun|\n",
      "|     us|       1670238236187|        dodge|\n",
      "|  italy|       1670238236187|         fiat|\n",
      "|     us|       1670238236187|         ford|\n",
      "|     us|       1670238236187|           hi|\n",
      "|  japan|       1670238236187|        honda|\n",
      "|  japan|       1670238236187|        maxda|\n",
      "|  japan|       1670238236187|        mazda|\n",
      "|germany|       1670238236187|     mercedes|\n",
      "|germany|       1670238236187|mercedes-benz|\n",
      "+-------+--------------------+-------------+\n",
      "only showing top 20 rows\n",
      "\n"
     ]
    }
   ],
   "source": [
    "df_business.show()"
   ]
  },
  {
   "cell_type": "code",
   "execution_count": 8,
   "id": "8609bf6b-34a3-493e-b51e-b05d2e182bd1",
   "metadata": {},
   "outputs": [],
   "source": [
    "# MongoDB Details\n",
    "mongo_ip = \"mongodb://mongodb:27017/auto-mpg.\""
   ]
  },
  {
   "cell_type": "code",
   "execution_count": 9,
   "id": "e73e5efb-558d-451e-911d-4563d2b28536",
   "metadata": {},
   "outputs": [
    {
     "name": "stdout",
     "output_type": "stream",
     "text": [
      "mongodb://mongodb:27017/auto-mpg.\n"
     ]
    }
   ],
   "source": [
    "print(mongo_ip)"
   ]
  },
  {
   "cell_type": "code",
   "execution_count": 10,
   "id": "a05d3c1a-a60e-47c6-b7be-05c43e18bb12",
   "metadata": {},
   "outputs": [
    {
     "name": "stdout",
     "output_type": "stream",
     "text": [
      "+--------------------+------------+--------------------+---------+------------+----------+-----+---------+----+------+------+\n",
      "|                 _id|acceleration|             carname|cylinders|displacement|horsepower|index|modelyear| mpg|origin|weight|\n",
      "+--------------------+------------+--------------------+---------+------------+----------+-----+---------+----+------+------+\n",
      "|{638ba5251833991e...|        12.0|chevrolet chevell...|        8|       307.0|     130.0|    0|       70|18.0|     1|3504.0|\n",
      "|{638ba5251833991e...|        11.5|   buick skylark 320|        8|       350.0|     165.0|    1|       70|15.0|     1|3693.0|\n",
      "|{638ba5251833991e...|        11.0|  plymouth satellite|        8|       318.0|     150.0|    2|       70|18.0|     1|3436.0|\n",
      "|{638ba5251833991e...|        12.0|       amc rebel sst|        8|       304.0|     150.0|    3|       70|16.0|     1|3433.0|\n",
      "|{638ba5251833991e...|        10.5|         ford torino|        8|       302.0|     140.0|    4|       70|17.0|     1|3449.0|\n",
      "|{638ba5251833991e...|        10.0|    ford galaxie 500|        8|       429.0|     198.0|    5|       70|15.0|     1|4341.0|\n",
      "|{638ba5251833991e...|         9.0|    chevrolet impala|        8|       454.0|     220.0|    6|       70|14.0|     1|4354.0|\n",
      "|{638ba5251833991e...|         8.5|   plymouth fury iii|        8|       440.0|     215.0|    7|       70|14.0|     1|4312.0|\n",
      "|{638ba5251833991e...|        10.0|    pontiac catalina|        8|       455.0|     225.0|    8|       70|14.0|     1|4425.0|\n",
      "|{638ba5251833991e...|         8.5|  amc ambassador dpl|        8|       390.0|     190.0|    9|       70|15.0|     1|3850.0|\n",
      "|{638ba5251833991e...|        10.0| dodge challenger se|        8|       383.0|     170.0|   10|       70|15.0|     1|3563.0|\n",
      "|{638ba5251833991e...|         8.0|  plymouth 'cuda 340|        8|       340.0|     160.0|   11|       70|14.0|     1|3609.0|\n",
      "|{638ba5251833991e...|         9.5|chevrolet monte c...|        8|       400.0|     150.0|   12|       70|15.0|     1|3761.0|\n",
      "|{638ba5251833991e...|        10.0|buick estate wago...|        8|       455.0|     225.0|   13|       70|14.0|     1|3086.0|\n",
      "|{638ba5251833991e...|        15.0|toyota corona mar...|        4|       113.0|      95.0|   14|       70|24.0|     3|2372.0|\n",
      "|{638ba5251833991e...|        15.5|     plymouth duster|        6|       198.0|      95.0|   15|       70|22.0|     1|2833.0|\n",
      "|{638ba5251833991e...|        15.5|          amc hornet|        6|       199.0|      97.0|   16|       70|18.0|     1|2774.0|\n",
      "|{638ba5251833991e...|        16.0|       ford maverick|        6|       200.0|      85.0|   17|       70|21.0|     1|2587.0|\n",
      "|{638ba5251833991e...|        14.5|        datsun pl510|        4|        97.0|      88.0|   18|       70|27.0|     3|2130.0|\n",
      "|{638ba5251833991e...|        20.5|volkswagen 1131 d...|        4|        97.0|      46.0|   19|       70|26.0|     2|1835.0|\n",
      "+--------------------+------------+--------------------+---------+------------+----------+-----+---------+----+------+------+\n",
      "only showing top 20 rows\n",
      "\n"
     ]
    }
   ],
   "source": [
    "iris = sqlC.read.format('com.mongodb.spark.sql.DefaultSource').option(\"uri\", mongo_ip + \"auto\").load()\n",
    "iris.createOrReplaceTempView(\"auto\")\n",
    "iris= sqlC.sql(\"SELECT * FROM auto\")\n",
    "iris.show()"
   ]
  },
  {
   "cell_type": "code",
   "execution_count": null,
   "id": "c5c4376f-d760-4791-8dff-e68e12bc70fe",
   "metadata": {},
   "outputs": [],
   "source": []
  }
 ],
 "metadata": {
  "kernelspec": {
   "display_name": "Python 3 (ipykernel)",
   "language": "python",
   "name": "python3"
  },
  "language_info": {
   "codemirror_mode": {
    "name": "ipython",
    "version": 3
   },
   "file_extension": ".py",
   "mimetype": "text/x-python",
   "name": "python",
   "nbconvert_exporter": "python",
   "pygments_lexer": "ipython3",
   "version": "3.10.5"
  }
 },
 "nbformat": 4,
 "nbformat_minor": 5
}

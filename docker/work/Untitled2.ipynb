{
 "cells": [
  {
   "cell_type": "code",
   "execution_count": 1,
   "id": "4ee45d90-b7d4-41fd-9c10-1a39d4e676b1",
   "metadata": {},
   "outputs": [],
   "source": [
    "from pyspark.sql import SparkSession\n",
    "\n",
    "url = 'mongodb://mongodb:27017/auto-mpg.auto'\n",
    "spark = (SparkSession\n",
    "         .builder\n",
    "         .master('local[*]')\n",
    "         .config('spark.driver.extraClassPath','path_to_jars/*')\n",
    "         .config(\"spark.mongodb.read.connection.uri\",url)\n",
    "         .config(\"spark.mongodb.write.connection.uri\", url)\n",
    "         .getOrCreate()\n",
    "         )\n",
    "df = spark.read.format(\"mongodb\").load()"
   ]
  },
  {
   "cell_type": "code",
   "execution_count": 2,
   "id": "dac682a3-cf0e-44fe-9476-cf5d3044c8b5",
   "metadata": {},
   "outputs": [
    {
     "name": "stdout",
     "output_type": "stream",
     "text": [
      "+--------------------+------------+--------------------+---------+------------+----------+-----+---------+----+------+------+\n",
      "|                 _id|acceleration|             carname|cylinders|displacement|horsepower|index|modelyear| mpg|origin|weight|\n",
      "+--------------------+------------+--------------------+---------+------------+----------+-----+---------+----+------+------+\n",
      "|638ba5251833991eb...|        12.0|chevrolet chevell...|        8|       307.0|     130.0|    0|       70|18.0|     1|3504.0|\n",
      "|638ba5251833991eb...|        11.5|   buick skylark 320|        8|       350.0|     165.0|    1|       70|15.0|     1|3693.0|\n",
      "|638ba5251833991eb...|        11.0|  plymouth satellite|        8|       318.0|     150.0|    2|       70|18.0|     1|3436.0|\n",
      "|638ba5251833991eb...|        12.0|       amc rebel sst|        8|       304.0|     150.0|    3|       70|16.0|     1|3433.0|\n",
      "|638ba5251833991eb...|        10.5|         ford torino|        8|       302.0|     140.0|    4|       70|17.0|     1|3449.0|\n",
      "|638ba5251833991eb...|        10.0|    ford galaxie 500|        8|       429.0|     198.0|    5|       70|15.0|     1|4341.0|\n",
      "|638ba5251833991eb...|         9.0|    chevrolet impala|        8|       454.0|     220.0|    6|       70|14.0|     1|4354.0|\n",
      "|638ba5251833991eb...|         8.5|   plymouth fury iii|        8|       440.0|     215.0|    7|       70|14.0|     1|4312.0|\n",
      "|638ba5251833991eb...|        10.0|    pontiac catalina|        8|       455.0|     225.0|    8|       70|14.0|     1|4425.0|\n",
      "|638ba5251833991eb...|         8.5|  amc ambassador dpl|        8|       390.0|     190.0|    9|       70|15.0|     1|3850.0|\n",
      "|638ba5251833991eb...|        10.0| dodge challenger se|        8|       383.0|     170.0|   10|       70|15.0|     1|3563.0|\n",
      "|638ba5251833991eb...|         8.0|  plymouth 'cuda 340|        8|       340.0|     160.0|   11|       70|14.0|     1|3609.0|\n",
      "|638ba5251833991eb...|         9.5|chevrolet monte c...|        8|       400.0|     150.0|   12|       70|15.0|     1|3761.0|\n",
      "|638ba5251833991eb...|        10.0|buick estate wago...|        8|       455.0|     225.0|   13|       70|14.0|     1|3086.0|\n",
      "|638ba5251833991eb...|        15.0|toyota corona mar...|        4|       113.0|      95.0|   14|       70|24.0|     3|2372.0|\n",
      "|638ba5251833991eb...|        15.5|     plymouth duster|        6|       198.0|      95.0|   15|       70|22.0|     1|2833.0|\n",
      "|638ba5251833991eb...|        15.5|          amc hornet|        6|       199.0|      97.0|   16|       70|18.0|     1|2774.0|\n",
      "|638ba5251833991eb...|        16.0|       ford maverick|        6|       200.0|      85.0|   17|       70|21.0|     1|2587.0|\n",
      "|638ba5251833991eb...|        14.5|        datsun pl510|        4|        97.0|      88.0|   18|       70|27.0|     3|2130.0|\n",
      "|638ba5251833991eb...|        20.5|volkswagen 1131 d...|        4|        97.0|      46.0|   19|       70|26.0|     2|1835.0|\n",
      "+--------------------+------------+--------------------+---------+------------+----------+-----+---------+----+------+------+\n",
      "only showing top 20 rows\n",
      "\n"
     ]
    }
   ],
   "source": [
    "df.show()"
   ]
  },
  {
   "cell_type": "code",
   "execution_count": 4,
   "id": "5ead573a-c7a6-4ae5-b428-90188190c5ae",
   "metadata": {},
   "outputs": [],
   "source": [
    "df.createOrReplaceTempView(\"auto\")\n",
    "df= spark.sql(\"SELECT _id, acceleration, carname, horsepower, cylinders, modelyear, mpg, origin FROM auto\")"
   ]
  },
  {
   "cell_type": "code",
   "execution_count": 5,
   "id": "010ee5db-2238-4371-b0ca-690bd3d9080c",
   "metadata": {},
   "outputs": [
    {
     "name": "stdout",
     "output_type": "stream",
     "text": [
      "+--------------------+------------+--------------------+----------+---------+---------+----+------+\n",
      "|                 _id|acceleration|             carname|horsepower|cylinders|modelyear| mpg|origin|\n",
      "+--------------------+------------+--------------------+----------+---------+---------+----+------+\n",
      "|638ba5251833991eb...|        12.0|chevrolet chevell...|     130.0|        8|       70|18.0|     1|\n",
      "|638ba5251833991eb...|        11.5|   buick skylark 320|     165.0|        8|       70|15.0|     1|\n",
      "|638ba5251833991eb...|        11.0|  plymouth satellite|     150.0|        8|       70|18.0|     1|\n",
      "|638ba5251833991eb...|        12.0|       amc rebel sst|     150.0|        8|       70|16.0|     1|\n",
      "|638ba5251833991eb...|        10.5|         ford torino|     140.0|        8|       70|17.0|     1|\n",
      "|638ba5251833991eb...|        10.0|    ford galaxie 500|     198.0|        8|       70|15.0|     1|\n",
      "|638ba5251833991eb...|         9.0|    chevrolet impala|     220.0|        8|       70|14.0|     1|\n",
      "|638ba5251833991eb...|         8.5|   plymouth fury iii|     215.0|        8|       70|14.0|     1|\n",
      "|638ba5251833991eb...|        10.0|    pontiac catalina|     225.0|        8|       70|14.0|     1|\n",
      "|638ba5251833991eb...|         8.5|  amc ambassador dpl|     190.0|        8|       70|15.0|     1|\n",
      "|638ba5251833991eb...|        10.0| dodge challenger se|     170.0|        8|       70|15.0|     1|\n",
      "|638ba5251833991eb...|         8.0|  plymouth 'cuda 340|     160.0|        8|       70|14.0|     1|\n",
      "|638ba5251833991eb...|         9.5|chevrolet monte c...|     150.0|        8|       70|15.0|     1|\n",
      "|638ba5251833991eb...|        10.0|buick estate wago...|     225.0|        8|       70|14.0|     1|\n",
      "|638ba5251833991eb...|        15.0|toyota corona mar...|      95.0|        4|       70|24.0|     3|\n",
      "|638ba5251833991eb...|        15.5|     plymouth duster|      95.0|        6|       70|22.0|     1|\n",
      "|638ba5251833991eb...|        15.5|          amc hornet|      97.0|        6|       70|18.0|     1|\n",
      "|638ba5251833991eb...|        16.0|       ford maverick|      85.0|        6|       70|21.0|     1|\n",
      "|638ba5251833991eb...|        14.5|        datsun pl510|      88.0|        4|       70|27.0|     3|\n",
      "|638ba5251833991eb...|        20.5|volkswagen 1131 d...|      46.0|        4|       70|26.0|     2|\n",
      "+--------------------+------------+--------------------+----------+---------+---------+----+------+\n",
      "only showing top 20 rows\n",
      "\n"
     ]
    }
   ],
   "source": [
    "df.show()"
   ]
  },
  {
   "cell_type": "code",
   "execution_count": null,
   "id": "a1b89aa8-29d5-49f7-91aa-ab448695ac06",
   "metadata": {},
   "outputs": [],
   "source": []
  }
 ],
 "metadata": {
  "kernelspec": {
   "display_name": "Python 3 (ipykernel)",
   "language": "python",
   "name": "python3"
  },
  "language_info": {
   "codemirror_mode": {
    "name": "ipython",
    "version": 3
   },
   "file_extension": ".py",
   "mimetype": "text/x-python",
   "name": "python",
   "nbconvert_exporter": "python",
   "pygments_lexer": "ipython3",
   "version": "3.10.5"
  }
 },
 "nbformat": 4,
 "nbformat_minor": 5
}

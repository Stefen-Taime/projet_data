{
 "cells": [
  {
   "cell_type": "code",
   "execution_count": 1,
   "id": "74ba63d5-bbfa-4159-bfec-bb76f08ac7dc",
   "metadata": {},
   "outputs": [
    {
     "name": "stdout",
     "output_type": "stream",
     "text": [
      "Collecting delta-spark==1.2.0\n",
      "  Downloading delta_spark-1.2.0-py3-none-any.whl (19 kB)\n",
      "Requirement already satisfied: pyspark<3.3.0,>=3.2.0 in /usr/local/spark-3.2.1-bin-hadoop3.2/python (from delta-spark==1.2.0) (3.2.1)\n",
      "Requirement already satisfied: importlib-metadata>=1.0.0 in /opt/conda/lib/python3.10/site-packages (from delta-spark==1.2.0) (4.11.4)\n",
      "Requirement already satisfied: zipp>=0.5 in /opt/conda/lib/python3.10/site-packages (from importlib-metadata>=1.0.0->delta-spark==1.2.0) (3.8.0)\n",
      "Collecting py4j==0.10.9.3\n",
      "  Downloading py4j-0.10.9.3-py2.py3-none-any.whl (198 kB)\n",
      "\u001b[2K     \u001b[90m━━━━━━━━━━━━━━━━━━━━━━━━━━━━━━━━━━━━━━━\u001b[0m \u001b[32m199.0/199.0 kB\u001b[0m \u001b[31m4.5 MB/s\u001b[0m eta \u001b[36m0:00:00\u001b[0ma \u001b[36m0:00:01\u001b[0m\n",
      "\u001b[?25hInstalling collected packages: py4j, delta-spark\n",
      "Successfully installed delta-spark-1.2.0 py4j-0.10.9.3\n"
     ]
    }
   ],
   "source": [
    "!pip install delta-spark==1.2.0"
   ]
  },
  {
   "cell_type": "code",
   "execution_count": 2,
   "id": "21856e29-a97f-4613-a872-a0c40f6b21c7",
   "metadata": {},
   "outputs": [],
   "source": [
    "from pyspark.sql import SparkSession"
   ]
  },
  {
   "cell_type": "code",
   "execution_count": 3,
   "id": "82e91bde-db80-4e9d-80c4-866f51e84630",
   "metadata": {},
   "outputs": [],
   "source": [
    "import pyspark\n",
    "from delta import *\n",
    "\n",
    "builder = pyspark.sql.SparkSession.builder.appName(\"DeltaApp\") \\\n",
    "    .config(\"spark.sql.extensions\", \"io.delta.sql.DeltaSparkSessionExtension\") \\\n",
    "    .config(\"spark.sql.catalog.spark_catalog\", \"org.apache.spark.sql.delta.catalog.DeltaCatalog\") \n",
    "\n",
    "spark = configure_spark_with_delta_pip(builder).master(\"spark://spark:7077\").getOrCreate()\n",
    "\n",
    "spark._jsc.hadoopConfiguration().set(\"fs.s3a.endpoint\", \"http://minio:9000\")\n",
    "spark._jsc.hadoopConfiguration().set(\"fs.s3a.access.key\", \"FFD34B2AC56E76E8BB9E7EFD7D283\")\n",
    "spark._jsc.hadoopConfiguration().set(\"fs.s3a.secret.key\", \"47A13EFAB1CA1F253FD6F56DEF769\")\n",
    "spark._jsc.hadoopConfiguration().set(\"fs.s3a.impl\",\"org.apache.hadoop.fs.s3a.S3AFileSystem\")\n",
    "spark._jsc.hadoopConfiguration().set(\"fs.s3a.path.style.access\", \"true\")\n",
    "spark._jsc.hadoopConfiguration().set(\"fs.s3a.aws.credentials.provider\",\"org.apache.hadoop.fs.s3a.SimpleAWSCredentialsProvider\")"
   ]
  },
  {
   "cell_type": "code",
   "execution_count": 4,
   "id": "47ae52c2-b926-4d35-a022-52f954cea957",
   "metadata": {},
   "outputs": [],
   "source": [
    "df_business = spark.read \\\n",
    "        .format(\"json\") \\\n",
    "        .option(\"inferSchema\", \"true\") \\\n",
    "        .json(\"s3a://landing/manufacturers//*.json\")"
   ]
  },
  {
   "cell_type": "code",
   "execution_count": 5,
   "id": "38a3839e-5a37-4d4c-b236-d6446e10d25b",
   "metadata": {},
   "outputs": [
    {
     "name": "stdout",
     "output_type": "stream",
     "text": [
      "+-------+--------------------+-------------+\n",
      "|country|dt_current_timestamp| manufacturer|\n",
      "+-------+--------------------+-------------+\n",
      "|     us|       1670238236187|          amc|\n",
      "|germany|       1670238236187|         audi|\n",
      "|germany|       1670238236187|          bmw|\n",
      "|     us|       1670238236187|        buick|\n",
      "|     us|       1670238236187|     cadillac|\n",
      "|     us|       1670238236187|        capri|\n",
      "|     us|       1670238236187|    chevroelt|\n",
      "|     us|       1670238236187|    chevrolet|\n",
      "|     us|       1670238236187|        chevy|\n",
      "|     us|       1670238236187|     chrysler|\n",
      "|  japan|       1670238236187|       datsun|\n",
      "|     us|       1670238236187|        dodge|\n",
      "|  italy|       1670238236187|         fiat|\n",
      "|     us|       1670238236187|         ford|\n",
      "|     us|       1670238236187|           hi|\n",
      "|  japan|       1670238236187|        honda|\n",
      "|  japan|       1670238236187|        maxda|\n",
      "|  japan|       1670238236187|        mazda|\n",
      "|germany|       1670238236187|     mercedes|\n",
      "|germany|       1670238236187|mercedes-benz|\n",
      "+-------+--------------------+-------------+\n",
      "only showing top 20 rows\n",
      "\n"
     ]
    }
   ],
   "source": [
    "df_business.show()"
   ]
  },
  {
   "cell_type": "code",
   "execution_count": null,
   "id": "8609bf6b-34a3-493e-b51e-b05d2e182bd1",
   "metadata": {},
   "outputs": [],
   "source": []
  }
 ],
 "metadata": {
  "kernelspec": {
   "display_name": "Python 3 (ipykernel)",
   "language": "python",
   "name": "python3"
  },
  "language_info": {
   "codemirror_mode": {
    "name": "ipython",
    "version": 3
   },
   "file_extension": ".py",
   "mimetype": "text/x-python",
   "name": "python",
   "nbconvert_exporter": "python",
   "pygments_lexer": "ipython3",
   "version": "3.10.5"
  }
 },
 "nbformat": 4,
 "nbformat_minor": 5
}
